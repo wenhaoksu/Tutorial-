{
 "cells": [
  {
   "cell_type": "markdown",
   "metadata": {},
   "source": [
    "#                                          **How to Conduct ANOVA Analysis** \n",
    "### The main goal of this tutorial is to show the audiences how to conduct statistical analysis such as one-way and two-way ANOVA on a military food waste data set. \n"
   ]
  },
  {
   "cell_type": "markdown",
   "metadata": {},
   "source": [
    "## What's the difference among T-test, One-way, and Two-way ANOVA?\n",
    "### Theoretically, they are all analysis of variance:"
   ]
  },
  {
   "cell_type": "code",
   "execution_count": 4,
   "metadata": {},
   "outputs": [
    {
     "data": {
      "text/html": [
       "<img src=\"http://slideplayer.com/slide/5147312/16/images/2/.jpg\"/>"
      ],
      "text/plain": [
       "<IPython.core.display.Image object>"
      ]
     },
     "execution_count": 4,
     "metadata": {},
     "output_type": "execute_result"
    }
   ],
   "source": [
    "from IPython.display import Image\n",
    "from IPython.core.display import HTML \n",
    "Image(url= \"http://slideplayer.com/slide/5147312/16/images/2/.jpg\")"
   ]
  },
  {
   "cell_type": "markdown",
   "metadata": {},
   "source": [
    "### 1. T-test: helps you compare whether two groups have different average values. \n",
    "    For example, We know Manhattan, KS is known as the little apple and Manhattan, NY is the big apple. Let’s say you are curious about whether New Yorkers and Kansans spend a different amount of money per month on movies. It’s impractical to ask every New Yorker and Kansan about their movie spending, so instead you ask a sample of 300 New Yorkers and 300 Kansans and the averages are 14 usd and 18 usd. The t-test asks whether that difference is probably representative of a real difference between Kansans and New Yorkers generally or whether that is most likely a meaningless statistical fluke.\n",
    "### 2. One-way ANOVA: determine whether there are any statistically significant differences among the means of three or more independent (unrelated) groups.\n",
    "    Using the example described above. If we not only curious about the different amount of money Kansans and New Yorkers spend on movie, we also want to know people from other states. We will use one way ANOVA to find out the difference among more than two groups. \n",
    "### 3. Two-way ANOVA is an extension to one-way ANOVA . There are two independent variables instead of one that were measured among different groups.\n",
    "    If we continue using the Kansans vs Now Yorkers example, we will meausure not only the amount of money they spend on movies, also we are interested in how their income level affects their spending on movies. Now we have two independent variables: where they come from (Kansas vs New York), and income level. Think about how income level can moderate the relationship between where they come from and the amount of money spend on movies. Now we can have potentially four groups we are comparing means among with two independent variables: \n",
    "    \n",
    "    Group 1: Kansans with low income\n",
    "    Group 2: Kansans with high income\n",
    "    Group 3: New Yorkers with low income\n",
    "    Group 4: New Yorkers with High income\n",
    "  \n"
   ]
  },
  {
   "cell_type": "code",
   "execution_count": 5,
   "metadata": {},
   "outputs": [
    {
     "data": {
      "text/html": [
       "<img src=\"http://slideplayer.com/slide/5147312/16/images/5/Analysis+of+Variance+One+way+ANOVA+Factorial+ANOVA.jpg\"/>"
      ],
      "text/plain": [
       "<IPython.core.display.Image object>"
      ]
     },
     "execution_count": 5,
     "metadata": {},
     "output_type": "execute_result"
    }
   ],
   "source": [
    "from IPython.display import Image\n",
    "from IPython.core.display import HTML \n",
    "Image(url= \"http://slideplayer.com/slide/5147312/16/images/5/Analysis+of+Variance+One+way+ANOVA+Factorial+ANOVA.jpg\")"
   ]
  },
  {
   "cell_type": "markdown",
   "metadata": {},
   "source": [
    "### Below is another example.\n",
    "#### we are interested in looking at how different level of autonomy and amount of trainning affect job performance. The two independent variables are autonomy and training. We can see that when tainning is low and autonomy is high, job performance is the lowest. However, with the amount of training increases, job performance hits the highest when autonoly is high. "
   ]
  },
  {
   "cell_type": "code",
   "execution_count": 6,
   "metadata": {},
   "outputs": [
    {
     "data": {
      "text/html": [
       "<img src=\"https://upload.wikimedia.org/wikipedia/commons/c/c1/Two-way_interaction_effect_example.png\"/>"
      ],
      "text/plain": [
       "<IPython.core.display.Image object>"
      ]
     },
     "execution_count": 6,
     "metadata": {},
     "output_type": "execute_result"
    }
   ],
   "source": [
    "from IPython.display import Image\n",
    "from IPython.core.display import HTML \n",
    "Image(url= \"https://upload.wikimedia.org/wikipedia/commons/c/c1/Two-way_interaction_effect_example.png\")"
   ]
  },
  {
   "cell_type": "markdown",
   "metadata": {},
   "source": [
    "## Now we know the difference among these three tests. Let's see what assumptions need to be met to run the ANOVA analysis. "
   ]
  },
  {
   "cell_type": "markdown",
   "metadata": {},
   "source": [
    "### Before you decide to conduct a two-way analysis, make sure you check your data set and see if they meet the following assumptions \n",
    "\n",
    "### One-way ANOVA Assumptions\n",
    "\n",
    "1. Samples are independent.\n",
    "2. The response variable is approximately normally distributed.\n",
    "3. The population variances are equal across responses for the group levels (if the largest sample standard deviation divided by the smallest sample standard deviation is not greater than two, then assume that the population variances are equal).\n",
    " \n",
    "\n",
    "### Two-way ANOVA Assumptions\n",
    "\n",
    "1. The populations from which the samples were obtained must be normally or approximately normally distributed.\n",
    "2. The samples must be independent.\n",
    "3. The variances of the populations must be equal.\n",
    "4. The groups must have the same sample size.\n",
    "\n",
    "#### You can see that the only difference of assumption between one-way and two-way ANOVA is that two-way ANOVA requires the sample size among all groups to be equal. "
   ]
  },
  {
   "cell_type": "markdown",
   "metadata": {},
   "source": [
    "### What does the Null Hypothesis look like?\n",
    "\n",
    "Given that you are comparing k independent groups, the null and alternative hypotheses will look like such:\n",
    "\n",
    "H0:μ1=μ2=⋯=μk\n",
    "Ha: Not all μ⋅ are equal\n",
    "\n",
    "In other words, the null hypothesis is that at all of the groups' population means are equal.  The alternative is that they are not all equal; there are at least two population means that are not equal to one another.\n",
    "\n"
   ]
  },
  {
   "cell_type": "markdown",
   "metadata": {},
   "source": [
    "### Here is a Youtube video that explains the different between a one-way and two-way ANOVA analysis"
   ]
  },
  {
   "cell_type": "code",
   "execution_count": 7,
   "metadata": {},
   "outputs": [
    {
     "data": {
      "image/jpeg": "[encoded data removed]",
      "text/html": [
       "\n",
       "        <iframe\n",
       "            width=\"400\"\n",
       "            height=\"300\"\n",
       "            src=\"https://www.youtube.com/embed/nvAMVY2cmok\"\n",
       "            frameborder=\"0\"\n",
       "            allowfullscreen\n",
       "        ></iframe>\n",
       "        "
      ],
      "text/plain": [
       "<IPython.lib.display.YouTubeVideo at 0x6600978>"
      ]
     },
     "execution_count": 7,
     "metadata": {},
     "output_type": "execute_result"
    }
   ],
   "source": [
    "from IPython.display import YouTubeVideo\n",
    "YouTubeVideo('nvAMVY2cmok')"
   ]
  },
  {
   "cell_type": "markdown",
   "metadata": {},
   "source": [
    "### There are also websites that offer more explanation and examples: \n",
    "1. http://keydifferences.com/difference-between-one-way-and-two-way-anova.html\n",
    "2. https://statistics.laerd.com/spss-tutorials/two-way-anova-using-spss-statistics.php3. \n",
    "3. http://www.statisticshowto.com/anova/"
   ]
  },
  {
   "cell_type": "markdown",
   "metadata": {},
   "source": [
    "### Now that we have a basic understanding of the AVONA test, let's take a look at the data set. \n",
    "\n",
    "We will be using pandas for data cleaning, statsmodels for analysis and seaborn for visualization.\n",
    "\n",
    "#### Background of the data set:\n",
    "This data set was collected in order to conduct analysis on Army soldiers' food waste behaviors and its relationship with variables such as hunnger level,gender, appeal of food, taste of food, and amount of food served. **The goal of this study was to study antecedents of food waste behaviros and reduce food waste in the military dininig facilities.** \n",
    "\n",
    "**The following description will explain the variables for better understanding:**\n",
    "**SurveyID:** this was a 4 digit number each participant was assigned to for identification purpose.\n",
    "\n",
    "**Appeal:** How appealing/appetizing the food looked. From 1 \"strongly agree\", to 5 \"strongly disagree\" with 6 being \"I do not know\".\n",
    "\n",
    "**Flavor:** Rating from 1 \"strongly agree\", to 5 \"strongly disagree\" on the food being flavorful, with 6 being \"I do not know\".\n",
    "\n",
    "**Temp:** Rating from 1 \"strongly agree\", to 5 \"strongly disagree\" on the temperature being appropriate on the food, with 6 being \"I do not know\".\n",
    "\n",
    "**ReturnYN:** Rating from 1 \"strongly agree\", to 5 \"strongly disagree\" on \"I would willingly return here again to eat a meal\", with 6 being \"I don't know\". \n",
    "\n",
    "**Hungerlevel:** Participants were asked to rate their hunger level before meal, from 1 being \"the greatest imaginable hunger\" to 5 \"slightly hungery\" and 6 \"neither hungry nor full\".\n",
    "\n",
    "**Satiety:** Participants were asked to rate their satisfaction/fullness level after their meal, from 1 being \"neither hungry nor full\" to 2 \"slightly full\" and 6 \"greatest imaginable fullness\".\n",
    "\n",
    "**Age:** Participants reported their age.\n",
    "\n",
    "**Sex:** with 1 being male and 2 being female. \n",
    "\n",
    "**Amount taken:** this was the total amount of food that were served to the participants. They were recorded in grams. \n",
    "\n",
    "**Leftover:** the total amount of food that was left on the plate, which was recorded in grams.\n",
    "\n",
    "**Consumed:** the total amount of food consumed recorded in grams.\n",
    "\n",
    "**KCAL:**total amount of calorie consumed of each participant. \n",
    "\n",
    "For variables like appeal, flavor, and hunger level, they were reported in a self administered survey from the participants. For variables like AmountTaken, leftover, consumed, and KCAL, they were recorded by observations, in other words, they were recorded by researchers."
   ]
  },
  {
   "cell_type": "code",
   "execution_count": 8,
   "metadata": {
    "collapsed": true
   },
   "outputs": [],
   "source": [
    "import pandas as pd\n",
    "import numpy as np\n",
    "import seaborn as sns\n",
    "import matplotlib as plt\n",
    "from seaborn.linearmodels import corrplot, symmatplot \n",
    "%matplotlib inline \n",
    "\n",
    "import sklearn.linear_model as lm\n",
    "from sklearn.metrics import mean_squared_error\n",
    "from sklearn.metrics import explained_variance_score\n",
    "import statsmodels.formula.api as sm\n",
    "from statsmodels.formula.api import ols\n",
    "import scipy.stats as stats\n",
    "from scipy import stats\n",
    "from sklearn import linear_model\n",
    "from sklearn.feature_selection import f_regression\n",
    "from sklearn.feature_selection import RFE"
   ]
  },
  {
   "cell_type": "markdown",
   "metadata": {},
   "source": [
    "### Part 1: Data Cleaning "
   ]
  },
  {
   "cell_type": "markdown",
   "metadata": {},
   "source": [
    "### Let's take a look at the data and see how many missing values we have.  "
   ]
  },
  {
   "cell_type": "code",
   "execution_count": 9,
   "metadata": {},
   "outputs": [
    {
     "data": {
      "text/html": [
       "<div>\n",
       "<style scoped>\n",
       "    .dataframe tbody tr th:only-of-type {\n",
       "        vertical-align: middle;\n",
       "    }\n",
       "\n",
       "    .dataframe tbody tr th {\n",
       "        vertical-align: top;\n",
       "    }\n",
       "\n",
       "    .dataframe thead th {\n",
       "        text-align: right;\n",
       "    }\n",
       "</style>\n",
       "<table border=\"1\" class=\"dataframe\">\n",
       "  <thead>\n",
       "    <tr style=\"text-align: right;\">\n",
       "      <th></th>\n",
       "      <th>Participants</th>\n",
       "      <th>SurveyID</th>\n",
       "      <th>Appeal</th>\n",
       "      <th>Flavor</th>\n",
       "      <th>Temp</th>\n",
       "      <th>ReturnYN</th>\n",
       "      <th>Hungerlevel</th>\n",
       "      <th>Satiety</th>\n",
       "      <th>Age</th>\n",
       "      <th>Sex</th>\n",
       "      <th>AmountTaken</th>\n",
       "      <th>Leftover</th>\n",
       "      <th>Consumed</th>\n",
       "      <th>KCAL</th>\n",
       "    </tr>\n",
       "  </thead>\n",
       "  <tbody>\n",
       "    <tr>\n",
       "      <th>0</th>\n",
       "      <td>1</td>\n",
       "      <td>0000</td>\n",
       "      <td>5.0</td>\n",
       "      <td>5.0</td>\n",
       "      <td>5.0</td>\n",
       "      <td>5.0</td>\n",
       "      <td>3.0</td>\n",
       "      <td>8.0</td>\n",
       "      <td>21.0</td>\n",
       "      <td>2.0</td>\n",
       "      <td>797</td>\n",
       "      <td>90</td>\n",
       "      <td>657.86</td>\n",
       "      <td>1021.587273</td>\n",
       "    </tr>\n",
       "    <tr>\n",
       "      <th>1</th>\n",
       "      <td>2</td>\n",
       "      <td>0007</td>\n",
       "      <td>4.0</td>\n",
       "      <td>4.0</td>\n",
       "      <td>4.0</td>\n",
       "      <td>4.0</td>\n",
       "      <td>NaN</td>\n",
       "      <td>8.0</td>\n",
       "      <td>19.0</td>\n",
       "      <td>1.0</td>\n",
       "      <td>845</td>\n",
       "      <td>261</td>\n",
       "      <td>543.05</td>\n",
       "      <td>1132.714145</td>\n",
       "    </tr>\n",
       "    <tr>\n",
       "      <th>2</th>\n",
       "      <td>3</td>\n",
       "      <td>0098</td>\n",
       "      <td>4.0</td>\n",
       "      <td>4.0</td>\n",
       "      <td>4.0</td>\n",
       "      <td>4.0</td>\n",
       "      <td>2.0</td>\n",
       "      <td>8.0</td>\n",
       "      <td>25.0</td>\n",
       "      <td>1.0</td>\n",
       "      <td>679</td>\n",
       "      <td>0</td>\n",
       "      <td>679.00</td>\n",
       "      <td>1147.480000</td>\n",
       "    </tr>\n",
       "    <tr>\n",
       "      <th>3</th>\n",
       "      <td>4</td>\n",
       "      <td>0105</td>\n",
       "      <td>4.0</td>\n",
       "      <td>3.0</td>\n",
       "      <td>3.0</td>\n",
       "      <td>4.0</td>\n",
       "      <td>3.0</td>\n",
       "      <td>9.0</td>\n",
       "      <td>24.0</td>\n",
       "      <td>1.0</td>\n",
       "      <td>981</td>\n",
       "      <td>155</td>\n",
       "      <td>767.50</td>\n",
       "      <td>1147.676756</td>\n",
       "    </tr>\n",
       "    <tr>\n",
       "      <th>4</th>\n",
       "      <td>5</td>\n",
       "      <td>0110</td>\n",
       "      <td>3.0</td>\n",
       "      <td>1.0</td>\n",
       "      <td>1.0</td>\n",
       "      <td>3.0</td>\n",
       "      <td>5.0</td>\n",
       "      <td>6.0</td>\n",
       "      <td>20.0</td>\n",
       "      <td>1.0</td>\n",
       "      <td>698</td>\n",
       "      <td>84</td>\n",
       "      <td>562.52</td>\n",
       "      <td>864.980000</td>\n",
       "    </tr>\n",
       "  </tbody>\n",
       "</table>\n",
       "</div>"
      ],
      "text/plain": [
       "   Participants  SurveyID   Appeal  Flavor  Temp   ReturnYN  Hungerlevel  \\\n",
       "0              1      0000     5.0     5.0    5.0       5.0          3.0   \n",
       "1              2      0007     4.0     4.0    4.0       4.0          NaN   \n",
       "2              3      0098     4.0     4.0    4.0       4.0          2.0   \n",
       "3              4      0105     4.0     3.0    3.0       4.0          3.0   \n",
       "4              5      0110     3.0     1.0    1.0       3.0          5.0   \n",
       "\n",
       "   Satiety   Age   Sex  AmountTaken  Leftover  Consumed         KCAL  \n",
       "0       8.0  21.0  2.0          797        90    657.86  1021.587273  \n",
       "1       8.0  19.0  1.0          845       261    543.05  1132.714145  \n",
       "2       8.0  25.0  1.0          679         0    679.00  1147.480000  \n",
       "3       9.0  24.0  1.0          981       155    767.50  1147.676756  \n",
       "4       6.0  20.0  1.0          698        84    562.52   864.980000  "
      ]
     },
     "execution_count": 9,
     "metadata": {},
     "output_type": "execute_result"
    }
   ],
   "source": [
    "df = pd.read_excel('Data/Army.xlsx')\n",
    "df.head()"
   ]
  },
  {
   "cell_type": "code",
   "execution_count": 10,
   "metadata": {},
   "outputs": [
    {
     "data": {
      "text/plain": [
       "Participants      0\n",
       "SurveyID          0\n",
       "Appeal           35\n",
       "Flavor           35\n",
       "Temp             35\n",
       "ReturnYN         36\n",
       "Hungerlevel      29\n",
       "Satiety          36\n",
       "Age              34\n",
       "Sex              34\n",
       "AmountTaken       0\n",
       "Leftover          0\n",
       "Consumed          0\n",
       "KCAL              0\n",
       "dtype: int64"
      ]
     },
     "execution_count": 10,
     "metadata": {},
     "output_type": "execute_result"
    }
   ],
   "source": [
    "df.isnull().sum()"
   ]
  },
  {
   "cell_type": "markdown",
   "metadata": {
    "collapsed": true
   },
   "source": [
    "#### It seems like we have several columns that are missing a lot of values. Since we need the data set to be complete in all columns, we will drop all the rows that have missing values. After we coduct this step, there will be no missing values as shown below. \n"
   ]
  },
  {
   "cell_type": "code",
   "execution_count": 11,
   "metadata": {
    "collapsed": true
   },
   "outputs": [],
   "source": [
    "df=df.dropna()"
   ]
  },
  {
   "cell_type": "code",
   "execution_count": 12,
   "metadata": {},
   "outputs": [
    {
     "data": {
      "text/plain": [
       "Participants     0\n",
       "SurveyID         0\n",
       "Appeal           0\n",
       "Flavor           0\n",
       "Temp             0\n",
       "ReturnYN         0\n",
       "Hungerlevel      0\n",
       "Satiety          0\n",
       "Age              0\n",
       "Sex              0\n",
       "AmountTaken      0\n",
       "Leftover         0\n",
       "Consumed         0\n",
       "KCAL             0\n",
       "dtype: int64"
      ]
     },
     "execution_count": 12,
     "metadata": {},
     "output_type": "execute_result"
    }
   ],
   "source": [
    "df.isnull().sum()"
   ]
  },
  {
   "cell_type": "code",
   "execution_count": 13,
   "metadata": {},
   "outputs": [
    {
     "name": "stdout",
     "output_type": "stream",
     "text": [
      "<class 'pandas.core.frame.DataFrame'>\n",
      "Int64Index: 96 entries, 0 to 135\n",
      "Data columns (total 14 columns):\n",
      "Participants     96 non-null int64\n",
      "SurveyID         96 non-null object\n",
      "Appeal           96 non-null float64\n",
      "Flavor           96 non-null float64\n",
      "Temp             96 non-null float64\n",
      "ReturnYN         96 non-null float64\n",
      "Hungerlevel      96 non-null float64\n",
      "Satiety          96 non-null float64\n",
      "Age              96 non-null float64\n",
      "Sex              96 non-null float64\n",
      "AmountTaken      96 non-null int64\n",
      "Leftover         96 non-null int64\n",
      "Consumed         96 non-null float64\n",
      "KCAL             96 non-null float64\n",
      "dtypes: float64(10), int64(3), object(1)\n",
      "memory usage: 11.2+ KB\n"
     ]
    }
   ],
   "source": [
    "df.info()"
   ]
  },
  {
   "cell_type": "markdown",
   "metadata": {},
   "source": [
    "#### We will take a look at some of the general information of the data set by using describe(). "
   ]
  },
  {
   "cell_type": "code",
   "execution_count": 14,
   "metadata": {},
   "outputs": [
    {
     "data": {
      "text/html": [
       "<div>\n",
       "<style scoped>\n",
       "    .dataframe tbody tr th:only-of-type {\n",
       "        vertical-align: middle;\n",
       "    }\n",
       "\n",
       "    .dataframe tbody tr th {\n",
       "        vertical-align: top;\n",
       "    }\n",
       "\n",
       "    .dataframe thead th {\n",
       "        text-align: right;\n",
       "    }\n",
       "</style>\n",
       "<table border=\"1\" class=\"dataframe\">\n",
       "  <thead>\n",
       "    <tr style=\"text-align: right;\">\n",
       "      <th></th>\n",
       "      <th>Participants</th>\n",
       "      <th>Appeal</th>\n",
       "      <th>Flavor</th>\n",
       "      <th>Temp</th>\n",
       "      <th>ReturnYN</th>\n",
       "      <th>Hungerlevel</th>\n",
       "      <th>Satiety</th>\n",
       "      <th>Age</th>\n",
       "      <th>Sex</th>\n",
       "      <th>AmountTaken</th>\n",
       "      <th>Leftover</th>\n",
       "      <th>Consumed</th>\n",
       "      <th>KCAL</th>\n",
       "    </tr>\n",
       "  </thead>\n",
       "  <tbody>\n",
       "    <tr>\n",
       "      <th>count</th>\n",
       "      <td>96.000000</td>\n",
       "      <td>96.000000</td>\n",
       "      <td>96.000000</td>\n",
       "      <td>96.000000</td>\n",
       "      <td>96.000000</td>\n",
       "      <td>96.000000</td>\n",
       "      <td>96.000000</td>\n",
       "      <td>96.000000</td>\n",
       "      <td>96.000000</td>\n",
       "      <td>96.000000</td>\n",
       "      <td>96.000000</td>\n",
       "      <td>96.000000</td>\n",
       "      <td>96.000000</td>\n",
       "    </tr>\n",
       "    <tr>\n",
       "      <th>mean</th>\n",
       "      <td>70.593750</td>\n",
       "      <td>3.583333</td>\n",
       "      <td>3.729167</td>\n",
       "      <td>3.989583</td>\n",
       "      <td>3.906250</td>\n",
       "      <td>3.458333</td>\n",
       "      <td>8.447917</td>\n",
       "      <td>25.041667</td>\n",
       "      <td>1.072917</td>\n",
       "      <td>603.385417</td>\n",
       "      <td>103.604167</td>\n",
       "      <td>475.202083</td>\n",
       "      <td>877.315146</td>\n",
       "    </tr>\n",
       "    <tr>\n",
       "      <th>std</th>\n",
       "      <td>39.651529</td>\n",
       "      <td>1.193550</td>\n",
       "      <td>0.999781</td>\n",
       "      <td>0.827104</td>\n",
       "      <td>0.974173</td>\n",
       "      <td>1.123122</td>\n",
       "      <td>1.221473</td>\n",
       "      <td>5.991075</td>\n",
       "      <td>0.261365</td>\n",
       "      <td>194.617540</td>\n",
       "      <td>106.166154</td>\n",
       "      <td>191.681380</td>\n",
       "      <td>320.425357</td>\n",
       "    </tr>\n",
       "    <tr>\n",
       "      <th>min</th>\n",
       "      <td>1.000000</td>\n",
       "      <td>0.000000</td>\n",
       "      <td>1.000000</td>\n",
       "      <td>1.000000</td>\n",
       "      <td>1.000000</td>\n",
       "      <td>1.000000</td>\n",
       "      <td>6.000000</td>\n",
       "      <td>19.000000</td>\n",
       "      <td>1.000000</td>\n",
       "      <td>208.000000</td>\n",
       "      <td>0.000000</td>\n",
       "      <td>110.500000</td>\n",
       "      <td>162.814687</td>\n",
       "    </tr>\n",
       "    <tr>\n",
       "      <th>25%</th>\n",
       "      <td>37.750000</td>\n",
       "      <td>3.000000</td>\n",
       "      <td>3.000000</td>\n",
       "      <td>4.000000</td>\n",
       "      <td>3.000000</td>\n",
       "      <td>3.000000</td>\n",
       "      <td>8.000000</td>\n",
       "      <td>21.000000</td>\n",
       "      <td>1.000000</td>\n",
       "      <td>454.500000</td>\n",
       "      <td>0.000000</td>\n",
       "      <td>319.750000</td>\n",
       "      <td>656.161748</td>\n",
       "    </tr>\n",
       "    <tr>\n",
       "      <th>50%</th>\n",
       "      <td>70.500000</td>\n",
       "      <td>4.000000</td>\n",
       "      <td>4.000000</td>\n",
       "      <td>4.000000</td>\n",
       "      <td>4.000000</td>\n",
       "      <td>4.000000</td>\n",
       "      <td>8.000000</td>\n",
       "      <td>22.000000</td>\n",
       "      <td>1.000000</td>\n",
       "      <td>590.000000</td>\n",
       "      <td>84.500000</td>\n",
       "      <td>479.235000</td>\n",
       "      <td>853.238992</td>\n",
       "    </tr>\n",
       "    <tr>\n",
       "      <th>75%</th>\n",
       "      <td>106.250000</td>\n",
       "      <td>4.250000</td>\n",
       "      <td>4.000000</td>\n",
       "      <td>4.250000</td>\n",
       "      <td>5.000000</td>\n",
       "      <td>4.000000</td>\n",
       "      <td>9.000000</td>\n",
       "      <td>28.000000</td>\n",
       "      <td>1.000000</td>\n",
       "      <td>724.500000</td>\n",
       "      <td>155.000000</td>\n",
       "      <td>608.755000</td>\n",
       "      <td>1105.350637</td>\n",
       "    </tr>\n",
       "    <tr>\n",
       "      <th>max</th>\n",
       "      <td>136.000000</td>\n",
       "      <td>5.000000</td>\n",
       "      <td>5.000000</td>\n",
       "      <td>5.000000</td>\n",
       "      <td>5.000000</td>\n",
       "      <td>5.000000</td>\n",
       "      <td>11.000000</td>\n",
       "      <td>43.000000</td>\n",
       "      <td>2.000000</td>\n",
       "      <td>1174.000000</td>\n",
       "      <td>442.000000</td>\n",
       "      <td>1057.000000</td>\n",
       "      <td>1810.000000</td>\n",
       "    </tr>\n",
       "  </tbody>\n",
       "</table>\n",
       "</div>"
      ],
      "text/plain": [
       "       Participants      Appeal     Flavor      Temp    ReturnYN  Hungerlevel  \\\n",
       "count      96.000000  96.000000  96.000000  96.000000  96.000000    96.000000   \n",
       "mean       70.593750   3.583333   3.729167   3.989583   3.906250     3.458333   \n",
       "std        39.651529   1.193550   0.999781   0.827104   0.974173     1.123122   \n",
       "min         1.000000   0.000000   1.000000   1.000000   1.000000     1.000000   \n",
       "25%        37.750000   3.000000   3.000000   4.000000   3.000000     3.000000   \n",
       "50%        70.500000   4.000000   4.000000   4.000000   4.000000     4.000000   \n",
       "75%       106.250000   4.250000   4.000000   4.250000   5.000000     4.000000   \n",
       "max       136.000000   5.000000   5.000000   5.000000   5.000000     5.000000   \n",
       "\n",
       "        Satiety        Age         Sex  AmountTaken    Leftover     Consumed  \\\n",
       "count  96.000000  96.000000  96.000000    96.000000   96.000000    96.000000   \n",
       "mean    8.447917  25.041667   1.072917   603.385417  103.604167   475.202083   \n",
       "std     1.221473   5.991075   0.261365   194.617540  106.166154   191.681380   \n",
       "min     6.000000  19.000000   1.000000   208.000000    0.000000   110.500000   \n",
       "25%     8.000000  21.000000   1.000000   454.500000    0.000000   319.750000   \n",
       "50%     8.000000  22.000000   1.000000   590.000000   84.500000   479.235000   \n",
       "75%     9.000000  28.000000   1.000000   724.500000  155.000000   608.755000   \n",
       "max    11.000000  43.000000   2.000000  1174.000000  442.000000  1057.000000   \n",
       "\n",
       "              KCAL  \n",
       "count    96.000000  \n",
       "mean    877.315146  \n",
       "std     320.425357  \n",
       "min     162.814687  \n",
       "25%     656.161748  \n",
       "50%     853.238992  \n",
       "75%    1105.350637  \n",
       "max    1810.000000  "
      ]
     },
     "execution_count": 14,
     "metadata": {},
     "output_type": "execute_result"
    }
   ],
   "source": [
    "df.describe()"
   ]
  },
  {
   "cell_type": "code",
   "execution_count": 15,
   "metadata": {
    "collapsed": true
   },
   "outputs": [],
   "source": [
    "df.to_excel(\"data/dfl.xlsx\")"
   ]
  },
  {
   "cell_type": "markdown",
   "metadata": {},
   "source": [
    "### Part 2: Statistical Analysis"
   ]
  },
  {
   "cell_type": "markdown",
   "metadata": {},
   "source": [
    "#### Now that we have dropped all of the missing values, we should be able to proceed with the visualization and statistical analysis part with the rest of 96 participants."
   ]
  },
  {
   "cell_type": "markdown",
   "metadata": {},
   "source": [
    "### Step 1. Correlation Table and Heatmap"
   ]
  },
  {
   "cell_type": "code",
   "execution_count": 16,
   "metadata": {},
   "outputs": [
    {
     "data": {
      "text/html": [
       "<div>\n",
       "<style scoped>\n",
       "    .dataframe tbody tr th:only-of-type {\n",
       "        vertical-align: middle;\n",
       "    }\n",
       "\n",
       "    .dataframe tbody tr th {\n",
       "        vertical-align: top;\n",
       "    }\n",
       "\n",
       "    .dataframe thead th {\n",
       "        text-align: right;\n",
       "    }\n",
       "</style>\n",
       "<table border=\"1\" class=\"dataframe\">\n",
       "  <thead>\n",
       "    <tr style=\"text-align: right;\">\n",
       "      <th></th>\n",
       "      <th>Participants</th>\n",
       "      <th>SurveyID</th>\n",
       "      <th>Appeal</th>\n",
       "      <th>Flavor</th>\n",
       "      <th>Temp</th>\n",
       "      <th>ReturnYN</th>\n",
       "      <th>Hungerlevel</th>\n",
       "      <th>Satiety</th>\n",
       "      <th>Age</th>\n",
       "      <th>Sex</th>\n",
       "      <th>AmountTaken</th>\n",
       "      <th>Leftover</th>\n",
       "      <th>Consumed</th>\n",
       "      <th>KCAL</th>\n",
       "    </tr>\n",
       "  </thead>\n",
       "  <tbody>\n",
       "    <tr>\n",
       "      <th>0</th>\n",
       "      <td>1</td>\n",
       "      <td>0000</td>\n",
       "      <td>5</td>\n",
       "      <td>5</td>\n",
       "      <td>5</td>\n",
       "      <td>5</td>\n",
       "      <td>1</td>\n",
       "      <td>8</td>\n",
       "      <td>21</td>\n",
       "      <td>1</td>\n",
       "      <td>797</td>\n",
       "      <td>90</td>\n",
       "      <td>657.86</td>\n",
       "      <td>1021.587273</td>\n",
       "    </tr>\n",
       "    <tr>\n",
       "      <th>2</th>\n",
       "      <td>3</td>\n",
       "      <td>0098</td>\n",
       "      <td>4</td>\n",
       "      <td>4</td>\n",
       "      <td>4</td>\n",
       "      <td>4</td>\n",
       "      <td>1</td>\n",
       "      <td>8</td>\n",
       "      <td>25</td>\n",
       "      <td>1</td>\n",
       "      <td>679</td>\n",
       "      <td>0</td>\n",
       "      <td>679.00</td>\n",
       "      <td>1147.480000</td>\n",
       "    </tr>\n",
       "    <tr>\n",
       "      <th>3</th>\n",
       "      <td>4</td>\n",
       "      <td>0105</td>\n",
       "      <td>4</td>\n",
       "      <td>3</td>\n",
       "      <td>3</td>\n",
       "      <td>4</td>\n",
       "      <td>1</td>\n",
       "      <td>9</td>\n",
       "      <td>24</td>\n",
       "      <td>1</td>\n",
       "      <td>981</td>\n",
       "      <td>155</td>\n",
       "      <td>767.50</td>\n",
       "      <td>1147.676756</td>\n",
       "    </tr>\n",
       "    <tr>\n",
       "      <th>4</th>\n",
       "      <td>5</td>\n",
       "      <td>0110</td>\n",
       "      <td>3</td>\n",
       "      <td>1</td>\n",
       "      <td>1</td>\n",
       "      <td>3</td>\n",
       "      <td>1</td>\n",
       "      <td>6</td>\n",
       "      <td>20</td>\n",
       "      <td>1</td>\n",
       "      <td>698</td>\n",
       "      <td>84</td>\n",
       "      <td>562.52</td>\n",
       "      <td>864.980000</td>\n",
       "    </tr>\n",
       "    <tr>\n",
       "      <th>10</th>\n",
       "      <td>11</td>\n",
       "      <td>0603</td>\n",
       "      <td>4</td>\n",
       "      <td>4</td>\n",
       "      <td>4</td>\n",
       "      <td>4</td>\n",
       "      <td>1</td>\n",
       "      <td>9</td>\n",
       "      <td>34</td>\n",
       "      <td>1</td>\n",
       "      <td>614</td>\n",
       "      <td>0</td>\n",
       "      <td>614.00</td>\n",
       "      <td>1054.000000</td>\n",
       "    </tr>\n",
       "  </tbody>\n",
       "</table>\n",
       "</div>"
      ],
      "text/plain": [
       "    Participants  SurveyID   Appeal  Flavor  Temp   ReturnYN  Hungerlevel  \\\n",
       "0               1      0000       5       5      5         5            1   \n",
       "2               3      0098       4       4      4         4            1   \n",
       "3               4      0105       4       3      3         4            1   \n",
       "4               5      0110       3       1      1         3            1   \n",
       "10             11      0603       4       4      4         4            1   \n",
       "\n",
       "    Satiety   Age   Sex  AmountTaken  Leftover  Consumed         KCAL  \n",
       "0          8    21    1          797        90    657.86  1021.587273  \n",
       "2          8    25    1          679         0    679.00  1147.480000  \n",
       "3          9    24    1          981       155    767.50  1147.676756  \n",
       "4          6    20    1          698        84    562.52   864.980000  \n",
       "10         9    34    1          614         0    614.00  1054.000000  "
      ]
     },
     "execution_count": 16,
     "metadata": {},
     "output_type": "execute_result"
    }
   ],
   "source": [
    "df1 = pd.read_excel('Data/df1.xlsx')\n",
    "df1.head()"
   ]
  },
  {
   "cell_type": "code",
   "execution_count": 17,
   "metadata": {},
   "outputs": [
    {
     "data": {
      "text/html": [
       "<div>\n",
       "<style scoped>\n",
       "    .dataframe tbody tr th:only-of-type {\n",
       "        vertical-align: middle;\n",
       "    }\n",
       "\n",
       "    .dataframe tbody tr th {\n",
       "        vertical-align: top;\n",
       "    }\n",
       "\n",
       "    .dataframe thead th {\n",
       "        text-align: right;\n",
       "    }\n",
       "</style>\n",
       "<table border=\"1\" class=\"dataframe\">\n",
       "  <thead>\n",
       "    <tr style=\"text-align: right;\">\n",
       "      <th></th>\n",
       "      <th>Participants</th>\n",
       "      <th>Appeal</th>\n",
       "      <th>Flavor</th>\n",
       "      <th>Temp</th>\n",
       "      <th>ReturnYN</th>\n",
       "      <th>Hungerlevel</th>\n",
       "      <th>Satiety</th>\n",
       "      <th>Age</th>\n",
       "      <th>Sex</th>\n",
       "      <th>AmountTaken</th>\n",
       "      <th>Leftover</th>\n",
       "      <th>Consumed</th>\n",
       "      <th>KCAL</th>\n",
       "    </tr>\n",
       "  </thead>\n",
       "  <tbody>\n",
       "    <tr>\n",
       "      <th>Participants</th>\n",
       "      <td>1.000000</td>\n",
       "      <td>-0.177992</td>\n",
       "      <td>-0.076887</td>\n",
       "      <td>0.009178</td>\n",
       "      <td>-0.094194</td>\n",
       "      <td>0.935767</td>\n",
       "      <td>0.130721</td>\n",
       "      <td>0.086611</td>\n",
       "      <td>0.874383</td>\n",
       "      <td>-0.091222</td>\n",
       "      <td>0.031445</td>\n",
       "      <td>-0.096474</td>\n",
       "      <td>0.034989</td>\n",
       "    </tr>\n",
       "    <tr>\n",
       "      <th>Appeal</th>\n",
       "      <td>-0.177992</td>\n",
       "      <td>1.000000</td>\n",
       "      <td>0.751278</td>\n",
       "      <td>0.582017</td>\n",
       "      <td>0.581665</td>\n",
       "      <td>-0.189534</td>\n",
       "      <td>0.259327</td>\n",
       "      <td>0.189407</td>\n",
       "      <td>-0.175466</td>\n",
       "      <td>0.084398</td>\n",
       "      <td>-0.146440</td>\n",
       "      <td>0.152592</td>\n",
       "      <td>0.131136</td>\n",
       "    </tr>\n",
       "    <tr>\n",
       "      <th>Flavor</th>\n",
       "      <td>-0.076887</td>\n",
       "      <td>0.751278</td>\n",
       "      <td>1.000000</td>\n",
       "      <td>0.696675</td>\n",
       "      <td>0.557275</td>\n",
       "      <td>-0.135661</td>\n",
       "      <td>0.350351</td>\n",
       "      <td>0.188187</td>\n",
       "      <td>-0.125684</td>\n",
       "      <td>-0.079308</td>\n",
       "      <td>-0.287030</td>\n",
       "      <td>0.082001</td>\n",
       "      <td>0.101568</td>\n",
       "    </tr>\n",
       "    <tr>\n",
       "      <th>Temp</th>\n",
       "      <td>0.009178</td>\n",
       "      <td>0.582017</td>\n",
       "      <td>0.696675</td>\n",
       "      <td>1.000000</td>\n",
       "      <td>0.482148</td>\n",
       "      <td>-0.056577</td>\n",
       "      <td>0.296403</td>\n",
       "      <td>0.197646</td>\n",
       "      <td>-0.012660</td>\n",
       "      <td>-0.046077</td>\n",
       "      <td>-0.151810</td>\n",
       "      <td>0.035642</td>\n",
       "      <td>0.028769</td>\n",
       "    </tr>\n",
       "    <tr>\n",
       "      <th>ReturnYN</th>\n",
       "      <td>-0.094194</td>\n",
       "      <td>0.581665</td>\n",
       "      <td>0.557275</td>\n",
       "      <td>0.482148</td>\n",
       "      <td>1.000000</td>\n",
       "      <td>-0.050091</td>\n",
       "      <td>0.301047</td>\n",
       "      <td>0.045766</td>\n",
       "      <td>0.010749</td>\n",
       "      <td>0.056102</td>\n",
       "      <td>-0.175726</td>\n",
       "      <td>0.152414</td>\n",
       "      <td>0.074594</td>\n",
       "    </tr>\n",
       "    <tr>\n",
       "      <th>Hungerlevel</th>\n",
       "      <td>0.935767</td>\n",
       "      <td>-0.189534</td>\n",
       "      <td>-0.135661</td>\n",
       "      <td>-0.056577</td>\n",
       "      <td>-0.050091</td>\n",
       "      <td>1.000000</td>\n",
       "      <td>0.073958</td>\n",
       "      <td>0.037258</td>\n",
       "      <td>0.884217</td>\n",
       "      <td>-0.067512</td>\n",
       "      <td>0.076251</td>\n",
       "      <td>-0.105058</td>\n",
       "      <td>0.001893</td>\n",
       "    </tr>\n",
       "    <tr>\n",
       "      <th>Satiety</th>\n",
       "      <td>0.130721</td>\n",
       "      <td>0.259327</td>\n",
       "      <td>0.350351</td>\n",
       "      <td>0.296403</td>\n",
       "      <td>0.301047</td>\n",
       "      <td>0.073958</td>\n",
       "      <td>1.000000</td>\n",
       "      <td>0.066467</td>\n",
       "      <td>0.060009</td>\n",
       "      <td>0.226336</td>\n",
       "      <td>-0.052435</td>\n",
       "      <td>0.262188</td>\n",
       "      <td>0.274490</td>\n",
       "    </tr>\n",
       "    <tr>\n",
       "      <th>Age</th>\n",
       "      <td>0.086611</td>\n",
       "      <td>0.189407</td>\n",
       "      <td>0.188187</td>\n",
       "      <td>0.197646</td>\n",
       "      <td>0.045766</td>\n",
       "      <td>0.037258</td>\n",
       "      <td>0.066467</td>\n",
       "      <td>1.000000</td>\n",
       "      <td>0.024470</td>\n",
       "      <td>0.156567</td>\n",
       "      <td>-0.080752</td>\n",
       "      <td>0.187228</td>\n",
       "      <td>0.188858</td>\n",
       "    </tr>\n",
       "    <tr>\n",
       "      <th>Sex</th>\n",
       "      <td>0.874383</td>\n",
       "      <td>-0.175466</td>\n",
       "      <td>-0.125684</td>\n",
       "      <td>-0.012660</td>\n",
       "      <td>0.010749</td>\n",
       "      <td>0.884217</td>\n",
       "      <td>0.060009</td>\n",
       "      <td>0.024470</td>\n",
       "      <td>1.000000</td>\n",
       "      <td>-0.108094</td>\n",
       "      <td>0.062335</td>\n",
       "      <td>-0.130899</td>\n",
       "      <td>-0.003449</td>\n",
       "    </tr>\n",
       "    <tr>\n",
       "      <th>AmountTaken</th>\n",
       "      <td>-0.091222</td>\n",
       "      <td>0.084398</td>\n",
       "      <td>-0.079308</td>\n",
       "      <td>-0.046077</td>\n",
       "      <td>0.056102</td>\n",
       "      <td>-0.067512</td>\n",
       "      <td>0.226336</td>\n",
       "      <td>0.156567</td>\n",
       "      <td>-0.108094</td>\n",
       "      <td>1.000000</td>\n",
       "      <td>0.272903</td>\n",
       "      <td>0.825391</td>\n",
       "      <td>0.652396</td>\n",
       "    </tr>\n",
       "    <tr>\n",
       "      <th>Leftover</th>\n",
       "      <td>0.031445</td>\n",
       "      <td>-0.146440</td>\n",
       "      <td>-0.287030</td>\n",
       "      <td>-0.151810</td>\n",
       "      <td>-0.175726</td>\n",
       "      <td>0.076251</td>\n",
       "      <td>-0.052435</td>\n",
       "      <td>-0.080752</td>\n",
       "      <td>0.062335</td>\n",
       "      <td>0.272903</td>\n",
       "      <td>1.000000</td>\n",
       "      <td>-0.294849</td>\n",
       "      <td>-0.113031</td>\n",
       "    </tr>\n",
       "    <tr>\n",
       "      <th>Consumed</th>\n",
       "      <td>-0.096474</td>\n",
       "      <td>0.152592</td>\n",
       "      <td>0.082001</td>\n",
       "      <td>0.035642</td>\n",
       "      <td>0.152414</td>\n",
       "      <td>-0.105058</td>\n",
       "      <td>0.262188</td>\n",
       "      <td>0.187228</td>\n",
       "      <td>-0.130899</td>\n",
       "      <td>0.825391</td>\n",
       "      <td>-0.294849</td>\n",
       "      <td>1.000000</td>\n",
       "      <td>0.693164</td>\n",
       "    </tr>\n",
       "    <tr>\n",
       "      <th>KCAL</th>\n",
       "      <td>0.034989</td>\n",
       "      <td>0.131136</td>\n",
       "      <td>0.101568</td>\n",
       "      <td>0.028769</td>\n",
       "      <td>0.074594</td>\n",
       "      <td>0.001893</td>\n",
       "      <td>0.274490</td>\n",
       "      <td>0.188858</td>\n",
       "      <td>-0.003449</td>\n",
       "      <td>0.652396</td>\n",
       "      <td>-0.113031</td>\n",
       "      <td>0.693164</td>\n",
       "      <td>1.000000</td>\n",
       "    </tr>\n",
       "  </tbody>\n",
       "</table>\n",
       "</div>"
      ],
      "text/plain": [
       "               Participants     Appeal    Flavor     Temp   ReturnYN  \\\n",
       "Participants        1.000000 -0.177992 -0.076887  0.009178 -0.094194   \n",
       "Appeal             -0.177992  1.000000  0.751278  0.582017  0.581665   \n",
       "Flavor             -0.076887  0.751278  1.000000  0.696675  0.557275   \n",
       "Temp                0.009178  0.582017  0.696675  1.000000  0.482148   \n",
       "ReturnYN           -0.094194  0.581665  0.557275  0.482148  1.000000   \n",
       "Hungerlevel         0.935767 -0.189534 -0.135661 -0.056577 -0.050091   \n",
       "Satiety             0.130721  0.259327  0.350351  0.296403  0.301047   \n",
       "Age                 0.086611  0.189407  0.188187  0.197646  0.045766   \n",
       "Sex                 0.874383 -0.175466 -0.125684 -0.012660  0.010749   \n",
       "AmountTaken        -0.091222  0.084398 -0.079308 -0.046077  0.056102   \n",
       "Leftover            0.031445 -0.146440 -0.287030 -0.151810 -0.175726   \n",
       "Consumed           -0.096474  0.152592  0.082001  0.035642  0.152414   \n",
       "KCAL                0.034989  0.131136  0.101568  0.028769  0.074594   \n",
       "\n",
       "               Hungerlevel  Satiety       Age        Sex  AmountTaken  \\\n",
       "Participants      0.935767  0.130721  0.086611  0.874383    -0.091222   \n",
       "Appeal           -0.189534  0.259327  0.189407 -0.175466     0.084398   \n",
       "Flavor           -0.135661  0.350351  0.188187 -0.125684    -0.079308   \n",
       "Temp             -0.056577  0.296403  0.197646 -0.012660    -0.046077   \n",
       "ReturnYN         -0.050091  0.301047  0.045766  0.010749     0.056102   \n",
       "Hungerlevel       1.000000  0.073958  0.037258  0.884217    -0.067512   \n",
       "Satiety           0.073958  1.000000  0.066467  0.060009     0.226336   \n",
       "Age               0.037258  0.066467  1.000000  0.024470     0.156567   \n",
       "Sex               0.884217  0.060009  0.024470  1.000000    -0.108094   \n",
       "AmountTaken      -0.067512  0.226336  0.156567 -0.108094     1.000000   \n",
       "Leftover          0.076251 -0.052435 -0.080752  0.062335     0.272903   \n",
       "Consumed         -0.105058  0.262188  0.187228 -0.130899     0.825391   \n",
       "KCAL              0.001893  0.274490  0.188858 -0.003449     0.652396   \n",
       "\n",
       "               Leftover  Consumed      KCAL  \n",
       "Participants   0.031445 -0.096474  0.034989  \n",
       "Appeal        -0.146440  0.152592  0.131136  \n",
       "Flavor        -0.287030  0.082001  0.101568  \n",
       "Temp          -0.151810  0.035642  0.028769  \n",
       "ReturnYN      -0.175726  0.152414  0.074594  \n",
       "Hungerlevel    0.076251 -0.105058  0.001893  \n",
       "Satiety       -0.052435  0.262188  0.274490  \n",
       "Age           -0.080752  0.187228  0.188858  \n",
       "Sex            0.062335 -0.130899 -0.003449  \n",
       "AmountTaken    0.272903  0.825391  0.652396  \n",
       "Leftover       1.000000 -0.294849 -0.113031  \n",
       "Consumed      -0.294849  1.000000  0.693164  \n",
       "KCAL          -0.113031  0.693164  1.000000  "
      ]
     },
     "execution_count": 17,
     "metadata": {},
     "output_type": "execute_result"
    }
   ],
   "source": [
    "df1.corr()"
   ]
  },
  {
   "cell_type": "code",
   "execution_count": 18,
   "metadata": {},
   "outputs": [
    {
     "data": {
      "text/plain": [
       "<matplotlib.axes._subplots.AxesSubplot at 0x1c109358>"
      ]
     },
     "execution_count": 18,
     "metadata": {},
     "output_type": "execute_result"
    },
    {
     "data": {
      "image/png": "[encoded data removed]",
      "text/plain": [
       "<matplotlib.figure.Figure at 0x66a1208>"
      ]
     },
     "metadata": {},
     "output_type": "display_data"
    }
   ],
   "source": [
    "corr=df.corr()\n",
    "sns.heatmap(corr)"
   ]
  },
  {
   "cell_type": "markdown",
   "metadata": {},
   "source": [
    "#### From the above table and graph, we can see that leftover food amount is negatively associated with flavor, appeal, temperature, and total amount of food consumed and it positively correlates with amount of food taken. Food flavor negatively associated with amount of food leftover. \n",
    "#### We can visualize some of the proposed association and take a look at the pattern. "
   ]
  },
  {
   "cell_type": "code",
   "execution_count": 50,
   "metadata": {},
   "outputs": [
    {
     "data": {
      "text/plain": [
       "<matplotlib.axes._subplots.AxesSubplot at 0x249e28d0>"
      ]
     },
     "execution_count": 50,
     "metadata": {},
     "output_type": "execute_result"
    },
    {
     "data": {
      "image/png": "[encoded data removed]",
      "text/plain": [
       "<matplotlib.figure.Figure at 0x249d6d30>"
      ]
     },
     "metadata": {},
     "output_type": "display_data"
    }
   ],
   "source": [
    "df.boxplot('Leftover', by='Hungerlevel', figsize=(10, 6))"
   ]
  },
  {
   "cell_type": "code",
   "execution_count": 51,
   "metadata": {},
   "outputs": [
    {
     "data": {
      "image/png": "[encoded data removed]",
      "text/plain": [
       "<matplotlib.figure.Figure at 0x24cf8048>"
      ]
     },
     "metadata": {},
     "output_type": "display_data"
    }
   ],
   "source": [
    "g=sns.jointplot(x=\"Leftover\", y=\"Flavor\", data=df)"
   ]
  },
  {
   "cell_type": "markdown",
   "metadata": {},
   "source": [
    "#### From this chart, we can see that when flavor level is high, there seemed to be much less leftover food on plate. "
   ]
  },
  {
   "cell_type": "code",
   "execution_count": 52,
   "metadata": {},
   "outputs": [
    {
     "data": {
      "image/png": "[encoded data removed]",
      "text/plain": [
       "<matplotlib.figure.Figure at 0x237f4828>"
      ]
     },
     "metadata": {},
     "output_type": "display_data"
    }
   ],
   "source": [
    "g=sns.jointplot(\"Leftover\", \"Appeal\", data=df, kind=\"kde\", space=0,color=\"r\")"
   ]
  },
  {
   "cell_type": "markdown",
   "metadata": {},
   "source": [
    "#### From the chart shown above, we can see that when appeal of food is high, leftover is significantly lower. "
   ]
  },
  {
   "cell_type": "code",
   "execution_count": 53,
   "metadata": {},
   "outputs": [
    {
     "data": {
      "text/plain": [
       "<seaborn.axisgrid.FacetGrid at 0x237f95f8>"
      ]
     },
     "execution_count": 53,
     "metadata": {},
     "output_type": "execute_result"
    },
    {
     "data": {
      "image/png": "[encoded data removed]",
      "text/plain": [
       "<matplotlib.figure.Figure at 0x2539d748>"
      ]
     },
     "metadata": {},
     "output_type": "display_data"
    }
   ],
   "source": [
    "sns.lmplot(\"Appeal\", \"Leftover\", df, col=\"Flavor\", hue=\"Flavor\", x_jitter=.25, size=8)"
   ]
  },
  {
   "cell_type": "markdown",
   "metadata": {},
   "source": [
    "#### This chart has given us some very interesting insights into the data:\n",
    "1. Leftover food waste reaches its peak when food flavor is poor and when it does not look appealing.\n",
    "2. The slope od food waste decreases when flavor and appeal improve. \n",
    "3. When both food appeal and food flavor are high, food waste was the least. \n",
    "4. When the food looks good but tastes bad, food wastes increases.\n",
    "5. When the food looks bad, but taste good, there wasn't as much food waste. "
   ]
  },
  {
   "cell_type": "markdown",
   "metadata": {},
   "source": [
    "### Step 2.  After we looked at the correlations among different variables, let's use ANOVA to test differences among different groups. Specifically, let's take a look at how different hunger level influences leftover food on plate. \n",
    "#### Remember there are 6 levels of hungerlevel, with 1 being greatest hunger imaginable to 5 slightly hungry and 6 neither hunger nor full. In this specific group, we did not have anyone report 6, therefore, we only have 5 categories. \n",
    "\n",
    "### Let's take a look at how hunger level affects food waste using python pakage spm1d  for one-way AVOVA analysis:\n",
    "Empirical finding: studies have shown that the hungrier a person feels, the more food they tend to take. By taking more food than what they can finish might lead to higher food waste. "
   ]
  },
  {
   "cell_type": "code",
   "execution_count": 19,
   "metadata": {
    "collapsed": true
   },
   "outputs": [],
   "source": [
    "import spm1d \n",
    "import numpy as np"
   ]
  },
  {
   "cell_type": "code",
   "execution_count": 20,
   "metadata": {
    "collapsed": true
   },
   "outputs": [],
   "source": [
    "np_leftover =np.array(df1[\"Leftover\"])"
   ]
  },
  {
   "cell_type": "code",
   "execution_count": 21,
   "metadata": {
    "collapsed": true
   },
   "outputs": [],
   "source": [
    "np_hungerlevel =np.array(df1[\"Hungerlevel\"])"
   ]
  },
  {
   "cell_type": "code",
   "execution_count": 22,
   "metadata": {},
   "outputs": [
    {
     "name": "stderr",
     "output_type": "stream",
     "text": [
      "C:\\Users\\wenha\\Anaconda2\\lib\\site-packages\\ipykernel_launcher.py:1: UserWarning: \n",
      "WARNING:  Non-sphericity corrections for one-way ANOVA are currently approximate and have not been verified.\n",
      "\n",
      "  \"\"\"Entry point for launching an IPython kernel.\n"
     ]
    },
    {
     "data": {
      "text/plain": [
       "SPM{F} (0D)\n",
       "   SPM.effect   :  Main A\n",
       "   SPM.SS       : (62854.0211039, 1007914.93723)\n",
       "   SPM.df       : (1.90606146974, 88.8957944619)\n",
       "   SPM.MS       : (31427.0105519, 10837.795024)\n",
       "   SPM.z        :  2.89976\n"
      ]
     },
     "execution_count": 22,
     "metadata": {},
     "output_type": "execute_result"
    }
   ],
   "source": [
    "F  = spm1d.stats.anova1(np_leftover, np_hungerlevel, equal_var=False)\n",
    "F"
   ]
  },
  {
   "cell_type": "code",
   "execution_count": 23,
   "metadata": {},
   "outputs": [
    {
     "data": {
      "text/plain": [
       "SPM{F} (0D) inference\n",
       "   SPM.effect   :  Main A\n",
       "   SPM.SS       : (62854.0211039, 1007914.93723)\n",
       "   SPM.df       : (1.90606146974, 88.8957944619)\n",
       "   SPM.MS       : (31427.0105519, 10837.795024)\n",
       "   SPM.z        :  2.89976\n",
       "Inference:\n",
       "   SPM.alpha    :  0.050\n",
       "   SPM.zstar    :  3.15069\n",
       "   SPM.h0reject :  False\n",
       "   SPM.p        :  0.06277\n"
      ]
     },
     "execution_count": 23,
     "metadata": {},
     "output_type": "execute_result"
    }
   ],
   "source": [
    "Fi = F.inference(alpha=0.05)\n",
    "Fi"
   ]
  },
  {
   "cell_type": "markdown",
   "metadata": {},
   "source": [
    "### Remember our null hypthesis is people from different group of hunger level do not have a difference among food waste. \n",
    "#### From the result table above, we can see that under Horeject, it shows False, which means we fail to reject Ho. This means there isn't much of a difference on food waste among different groups of people on huger level. "
   ]
  },
  {
   "cell_type": "markdown",
   "metadata": {},
   "source": [
    "### Here is another way to conduct ANOVA by using statesmodel:"
   ]
  },
  {
   "cell_type": "code",
   "execution_count": 24,
   "metadata": {
    "collapsed": true
   },
   "outputs": [],
   "source": [
    "import pandas as pd\n",
    "from statsmodels.formula.api import ols\n",
    "from statsmodels.stats.anova import anova_lm\n",
    "from statsmodels.graphics.factorplots import interaction_plot\n",
    "import matplotlib.pyplot as plt\n",
    "from scipy import stats"
   ]
  },
  {
   "cell_type": "code",
   "execution_count": 25,
   "metadata": {},
   "outputs": [
    {
     "name": "stdout",
     "output_type": "stream",
     "text": [
      "One-way ANOVA P = 0.126333203159\n"
     ]
    }
   ],
   "source": [
    "Gre = df[df['Hungerlevel'] == 1]['Leftover']\n",
    "Exe = df[df['Hungerlevel'] == 2]['Leftover']\n",
    "Ver = df[df['Hungerlevel'] == 3]['Leftover']\n",
    "Mod = df[df['Hungerlevel'] == 4]['Leftover']\n",
    "Sli = df[df['Hungerlevel'] == 5]['Leftover']\n",
    "\n",
    "f_val, p_val = stats.f_oneway(Gre, Exe, Ver, Mod, Sli)  \n",
    "  \n",
    "print \"One-way ANOVA P =\", p_val  "
   ]
  },
  {
   "cell_type": "code",
   "execution_count": 26,
   "metadata": {},
   "outputs": [
    {
     "name": "stderr",
     "output_type": "stream",
     "text": [
      "C:\\Users\\wenha\\Anaconda2\\lib\\site-packages\\statsmodels\\compat\\pandas.py:56: FutureWarning: The pandas.core.datetools module is deprecated and will be removed in a future version. Please use the pandas.tseries module instead.\n",
      "  from pandas.core import datetools\n"
     ]
    },
    {
     "name": "stdout",
     "output_type": "stream",
     "text": [
      "               df        sum_sq       mean_sq         F    PR(>F)\n",
      "Hungerlevel   1.0  6.225743e+03   6225.743028  0.549738  0.460273\n",
      "Residual     94.0  1.064543e+06  11324.927822       NaN       NaN\n"
     ]
    },
    {
     "name": "stderr",
     "output_type": "stream",
     "text": [
      "C:\\Users\\wenha\\Anaconda2\\lib\\site-packages\\scipy\\stats\\_distn_infrastructure.py:879: RuntimeWarning: invalid value encountered in greater\n",
      "  return (self.a < x) & (x < self.b)\n",
      "C:\\Users\\wenha\\Anaconda2\\lib\\site-packages\\scipy\\stats\\_distn_infrastructure.py:879: RuntimeWarning: invalid value encountered in less\n",
      "  return (self.a < x) & (x < self.b)\n",
      "C:\\Users\\wenha\\Anaconda2\\lib\\site-packages\\scipy\\stats\\_distn_infrastructure.py:1821: RuntimeWarning: invalid value encountered in less_equal\n",
      "  cond2 = cond0 & (x <= self.a)\n"
     ]
    }
   ],
   "source": [
    "import statsmodels.api as sm\n",
    "from statsmodels.formula.api import ols\n",
    "\n",
    "mod = ols('Leftover ~ Hungerlevel', data=df1).fit()\n",
    "                \n",
    "aov_table = sm.stats.anova_lm(mod)\n",
    "print aov_table"
   ]
  },
  {
   "cell_type": "code",
   "execution_count": 27,
   "metadata": {},
   "outputs": [
    {
     "name": "stdout",
     "output_type": "stream",
     "text": [
      "Multiple Comparison of Means - Tukey HSD,FWER=0.05\n",
      "================================================\n",
      "group1 group2 meandiff   lower    upper   reject\n",
      "------------------------------------------------\n",
      " 1.0    2.0   -68.0649 -208.4448  72.315  False \n",
      " 1.0    3.0    0.2514  -123.9052 124.4081 False \n",
      " 1.0    4.0    0.3012  -119.3703 119.9726 False \n",
      " 1.0    5.0   -61.2411 -192.8147 70.3326  False \n",
      " 2.0    3.0   68.3164   -36.7343 173.3671 False \n",
      " 2.0    4.0   68.3661   -31.3436 168.0758 False \n",
      " 2.0    5.0    6.8239  -106.8969 120.5446 False \n",
      " 3.0    4.0    0.0497   -75.1193 75.2188  False \n",
      " 3.0    5.0   -61.4925 -154.4482 31.4632  False \n",
      " 4.0    5.0   -61.5422 -148.4165  25.332  False \n",
      "------------------------------------------------\n"
     ]
    }
   ],
   "source": [
    "from statsmodels.stats.multicomp import pairwise_tukeyhsd\n",
    "\n",
    "print pairwise_tukeyhsd(df1['Leftover'], df['Hungerlevel'])"
   ]
  },
  {
   "cell_type": "markdown",
   "metadata": {},
   "source": [
    "#### As we can see from the ANOVA table above, p value is greater than .05 (p = 0.126), which means we fail to reject Ho (Ho: there is no difference on amount of food left over based on different hunger level). We can also interpret the result by looking at the reject column. When it indicates false, it means we fail to reject Ho.\n"
   ]
  },
  {
   "cell_type": "markdown",
   "metadata": {},
   "source": [
    "### Step 3. What about adding gender to the picture along with hungerlevel? Two-way ANOVA.\n",
    "#### Would gender play a difference on moderating the relaitonship between hunger level and food left on plate?"
   ]
  },
  {
   "cell_type": "code",
   "execution_count": 28,
   "metadata": {},
   "outputs": [
    {
     "name": "stdout",
     "output_type": "stream",
     "text": [
      "                             sum_sq    df             F    PR(>F)\n",
      "C(Sex)                -3.023552e-12   1.0 -2.784256e-16  1.000000\n",
      "C(Hungerlevel)         4.619521e+04   2.0  2.126957e+00  0.125024\n",
      "C(Sex):C(Hungerlevel)  1.772564e+04   2.0  8.161383e-01  0.445311\n",
      "Residual               9.990704e+05  92.0           NaN       NaN\n"
     ]
    }
   ],
   "source": [
    "formula = 'Leftover ~ C(Sex) + C(Hungerlevel) + C(Sex):C(Hungerlevel)'\n",
    "model = ols(formula, df1).fit()\n",
    "aov_table = anova_lm(model, typ=2)\n",
    "print(aov_table)"
   ]
  },
  {
   "cell_type": "markdown",
   "metadata": {},
   "source": [
    "### We can see that the interaction terms of sex and hungerlevel is not significant (third line) from the above table.Therefore, we conclude that gender does not moderate the effect between hunger level and leftover food on plate. "
   ]
  },
  {
   "cell_type": "markdown",
   "metadata": {},
   "source": []
  }
 ],
 "metadata": {
  "kernelspec": {
   "display_name": "Python 2",
   "language": "python",
   "name": "python2"
  },
  "language_info": {
   "codemirror_mode": {
    "name": "ipython",
    "version": 2
   },
   "file_extension": ".py",
   "mimetype": "text/x-python",
   "name": "python",
   "nbconvert_exporter": "python",
   "pygments_lexer": "ipython2",
   "version": "2.7.13"
  }
 },
 "nbformat": 4,
 "nbformat_minor": 2
}
